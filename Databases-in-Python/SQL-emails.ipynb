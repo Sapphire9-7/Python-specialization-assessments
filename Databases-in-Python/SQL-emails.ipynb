{
 "cells": [
  {
   "cell_type": "code",
   "execution_count": 1,
   "metadata": {},
   "outputs": [
    {
     "name": "stdout",
     "output_type": "stream",
     "text": [
      "iupui.edu 536\n",
      "umich.edu 491\n",
      "indiana.edu 178\n",
      "caret.cam.ac.uk 157\n",
      "vt.edu 110\n",
      "uct.ac.za 96\n",
      "media.berkeley.edu 56\n",
      "ufp.pt 28\n",
      "gmail.com 25\n",
      "et.gatech.edu 17\n",
      "txstate.edu 17\n",
      "whitman.edu 17\n",
      "lancaster.ac.uk 14\n",
      "bu.edu 14\n",
      "stanford.edu 12\n",
      "unicon.net 9\n",
      "loi.nl 9\n",
      "rsmart.com 8\n",
      "ucdavis.edu 1\n",
      "fhda.edu 1\n",
      "utoronto.ca 1\n"
     ]
    }
   ],
   "source": [
    "import sqlite3\n",
    "\n",
    "connect = sqlite3.connect('emaildb.sqlite')\n",
    "cur = connect.cursor()\n",
    "\n",
    "cur.execute('''DROP TABLE IF EXISTS Counts''')\n",
    "cur.execute('''CREATE TABLE Counts (org TEXT, count INTEGER)''')\n",
    "\n",
    "fname = input('Enter the file name: ')\n",
    "if len(fname) < 1:\n",
    "    fname = 'mbox.txt'\n",
    "\n",
    "fh = open(fname)\n",
    "\n",
    "for line in fh:\n",
    "    if not line.startswith(\"From \"):\n",
    "        continue\n",
    "    pieces = line.split()\n",
    "    email = pieces[1]\n",
    "    org = email.split('@')[1]\n",
    "    cur.execute('SELECT count FROM Counts WHERE org = ?', (org,))\n",
    "    row = cur.fetchone()\n",
    "    if row is None:\n",
    "        cur.execute('''INSERT INTO Counts (org, count) VALUES (?, 1)''', (org,))\n",
    "    else:\n",
    "        cur.execute('UPDATE Counts SET count = count + 1 WHERE org = ?', (org,))\n",
    "    connect.commit()\n",
    "\n",
    "sqlstr = 'SELECT org, count FROM Counts ORDER BY count DESC'\n",
    "\n",
    "for row in cur.execute(sqlstr):\n",
    "    print(row[0], row[1])\n",
    "\n",
    "cur.close()\n"
   ]
  }
 ],
 "metadata": {
  "kernelspec": {
   "display_name": "Python 3",
   "language": "python",
   "name": "python3"
  },
  "language_info": {
   "codemirror_mode": {
    "name": "ipython",
    "version": 3
   },
   "file_extension": ".py",
   "mimetype": "text/x-python",
   "name": "python",
   "nbconvert_exporter": "python",
   "pygments_lexer": "ipython3",
   "version": "3.9.8"
  },
  "orig_nbformat": 4
 },
 "nbformat": 4,
 "nbformat_minor": 2
}
