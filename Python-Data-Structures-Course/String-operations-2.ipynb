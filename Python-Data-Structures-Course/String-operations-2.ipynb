{
 "cells": [
  {
   "attachments": {},
   "cell_type": "markdown",
   "metadata": {},
   "source": [
    "Find the email addresses and print their count in the mbox-short.txt file."
   ]
  },
  {
   "cell_type": "code",
   "execution_count": null,
   "metadata": {},
   "outputs": [],
   "source": [
    "fname = input(\"Enter file name: \")\n",
    "if len(fname) < 1:\n",
    "    fname = \"mbox-short.txt\"\n",
    "\n",
    "fh = open(fname)\n",
    "count = 0\n",
    "for line in fh:\n",
    "    if line.startswith(\"From \") and not line.startswith(\"From:\"):\n",
    "        count += 1\n",
    "        pieces = line.split()\n",
    "        final = pieces[1]\n",
    "        print(final)\n",
    "\n",
    "print(\"There were\", count, \"lines in the file with From as the first word\")"
   ]
  }
 ],
 "metadata": {
  "language_info": {
   "name": "python"
  },
  "orig_nbformat": 4
 },
 "nbformat": 4,
 "nbformat_minor": 2
}
