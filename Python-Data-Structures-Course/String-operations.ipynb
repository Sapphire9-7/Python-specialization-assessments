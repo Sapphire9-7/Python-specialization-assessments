{
 "cells": [
  {
   "attachments": {},
   "cell_type": "markdown",
   "metadata": {},
   "source": [
    "8.4 Open the file romeo.txt and read it line by line. For each line, split the line into a list of words using the split() method. The program should build a list of words. For each word on each line check to see if the word is already in the list and if not append it to the list. When the program completes, sort and print the resulting words in python sort() order as shown in the desired output."
   ]
  },
  {
   "cell_type": "code",
   "execution_count": null,
   "metadata": {
    "vscode": {
     "languageId": "plaintext"
    }
   },
   "outputs": [],
   "source": [
    "name = input(\"Enter file: \")\n",
    "for i in open(name):\n",
    "    i = open(name).readlines()\n",
    "list =[]\n",
    "for line in i:\n",
    "    line = line.rstrip()\n",
    "    list.append(line.split())\n",
    "\n",
    "final_list = []\n",
    "for i in list:\n",
    "    for j in i:\n",
    "        if j not in final_list:\n",
    "            final_list.append(j)\n",
    "        else:\n",
    "            continue\n",
    "\n",
    "print(sorted(final_list))"
   ]
  }
 ],
 "metadata": {
  "language_info": {
   "name": "python"
  },
  "orig_nbformat": 4
 },
 "nbformat": 4,
 "nbformat_minor": 2
}
