{
 "cells": [
  {
   "attachments": {},
   "cell_type": "markdown",
   "metadata": {},
   "source": [
    "In this assignment you will write a Python program somewhat similar to http://www.py4e.com/code3/json2.py. The program will prompt for a URL, read the JSON data from that URL using urllib and then parse and extract the comment counts from the JSON data, compute the sum of the numbers in the file and enter the sum below"
   ]
  },
  {
   "cell_type": "code",
   "execution_count": 3,
   "metadata": {},
   "outputs": [
    {
     "name": "stdout",
     "output_type": "stream",
     "text": [
      "Retrieving http://py4e-data.dr-chuck.net/comments_1830771.json\n",
      "Retrieving http://py4e-data.dr-chuck.net/comments_1830771.json\n",
      "Retrieved 2727 characters\n",
      "User count: 50\n",
      "The sum is: 2518\n"
     ]
    }
   ],
   "source": [
    "import urllib.parse, urllib.error, urllib.request\n",
    "import ssl\n",
    "import json\n",
    "\n",
    "url = input(\"Enter location: \")\n",
    "\n",
    "ctx = ssl.create_default_context()\n",
    "ctx.check_hostname = False\n",
    "ctx.verify_mode = ssl.CERT_NONE\n",
    "\n",
    "#the url used http://py4e-data.dr-chuck.net/comments_1830771.json\n",
    "\n",
    "try:\n",
    "    print('Retrieving', url)\n",
    "    uh = urllib.request.urlopen(url, context=ctx)\n",
    "except:\n",
    "    print('Invalid URL')\n",
    "\n",
    "print('Retrieving', url)\n",
    "connection = urllib.request.urlopen(url, context=ctx)\n",
    "data = connection.read().decode()\n",
    "print('Retrieved', len(data), 'characters')\n",
    "\n",
    "info = json.loads(data)\n",
    "print('User count:', len(info['comments']))\n",
    "sum = 0\n",
    "for item in info['comments']:\n",
    "    sum += item['count']\n",
    "\n",
    "print(\"The sum is:\", sum)\n"
   ]
  }
 ],
 "metadata": {
  "kernelspec": {
   "display_name": "Python 3",
   "language": "python",
   "name": "python3"
  },
  "language_info": {
   "codemirror_mode": {
    "name": "ipython",
    "version": 3
   },
   "file_extension": ".py",
   "mimetype": "text/x-python",
   "name": "python",
   "nbconvert_exporter": "python",
   "pygments_lexer": "ipython3",
   "version": "3.9.8"
  },
  "orig_nbformat": 4
 },
 "nbformat": 4,
 "nbformat_minor": 2
}
