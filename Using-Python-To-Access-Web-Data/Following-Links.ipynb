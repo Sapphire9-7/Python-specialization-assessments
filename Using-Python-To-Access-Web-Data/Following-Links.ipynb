{
 "cells": [
  {
   "attachments": {},
   "cell_type": "markdown",
   "metadata": {},
   "source": [
    "In this assignment you will write a Python program that expands on http://www.py4e.com/code3/urllinks.py. The program will use urllib to read the HTML from the data files below, extract the href= vaues from the anchor tags, scan for a tag that is in a particular position relative to the first name in the list, follow that link and repeat the process a number of times and report the last name you find."
   ]
  },
  {
   "cell_type": "code",
   "execution_count": 6,
   "metadata": {},
   "outputs": [
    {
     "name": "stdout",
     "output_type": "stream",
     "text": [
      "Retrieving:  http://py4e-data.dr-chuck.net/known_by_Sharyn.html\n",
      "Retrieving:  http://py4e-data.dr-chuck.net/known_by_Eamonn.html\n",
      "Retrieving:  http://py4e-data.dr-chuck.net/known_by_Jaye.html\n",
      "Retrieving:  http://py4e-data.dr-chuck.net/known_by_Malikah.html\n",
      "Retrieving:  http://py4e-data.dr-chuck.net/known_by_Dante.html\n",
      "Retrieving:  http://py4e-data.dr-chuck.net/known_by_Sabah.html\n",
      "Retrieving:  http://py4e-data.dr-chuck.net/known_by_Kale.html\n",
      "the name is ['Kale']\n"
     ]
    }
   ],
   "source": [
    "#actual data http://py4e-data.dr-chuck.net/known_by_Oswald.html\n",
    "import re\n",
    "import urllib.request, urllib.parse, urllib.error\n",
    "from bs4 import BeautifulSoup\n",
    "import ssl\n",
    "ctx = ssl.create_default_context()\n",
    "ctx.check_hostname = False\n",
    "ctx.verify_mode = ssl.CERT_NONE\n",
    "url = input('Enter URL: ')\n",
    "\n",
    "# get the count, position and loop to find the url at the position\n",
    "count = int(input('Enter count: '))\n",
    "position = int(input('Enter position: '))\n",
    "for i in range(count):\n",
    "    html = urllib.request.urlopen(url, context = ctx).read()\n",
    "    soup = BeautifulSoup(html, 'html.parser')\n",
    "    tags = soup('a')     \n",
    "   #using regular expression to find the url at the position\n",
    "    url = re.findall('href=\"(.+)\"', tags[position-1].decode())[0]\n",
    "    print('Retrieving: ', url)\n",
    "    \n",
    "print(\"the name is\", re.findall('known_by_(.+).html', url))"
   ]
  }
 ],
 "metadata": {
  "kernelspec": {
   "display_name": "Python 3",
   "language": "python",
   "name": "python3"
  },
  "language_info": {
   "codemirror_mode": {
    "name": "ipython",
    "version": 3
   },
   "file_extension": ".py",
   "mimetype": "text/x-python",
   "name": "python",
   "nbconvert_exporter": "python",
   "pygments_lexer": "ipython3",
   "version": "3.9.8"
  },
  "orig_nbformat": 4
 },
 "nbformat": 4,
 "nbformat_minor": 2
}
