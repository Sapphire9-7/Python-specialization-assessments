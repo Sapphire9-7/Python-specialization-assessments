{
 "cells": [
  {
   "attachments": {},
   "cell_type": "markdown",
   "metadata": {},
   "source": [
    "Handling The Data\n",
    "The basic outline of this problem is to read the file, look for integers using the re.findall(), looking for a regular expression of '[0-9]+' and then converting the extracted strings to integers and summing up the integers."
   ]
  },
  {
   "cell_type": "code",
   "execution_count": 15,
   "metadata": {},
   "outputs": [
    {
     "name": "stdout",
     "output_type": "stream",
     "text": [
      "432429\n"
     ]
    }
   ],
   "source": [
    "import re\n",
    "file = open('actualdata.txt')\n",
    "sum_total = 0\n",
    "for i in file:\n",
    "    i.rstrip()\n",
    "    y = re.findall('[0-9]+',i)\n",
    "    for j in y:\n",
    "        numbers = int(j)\n",
    "        sum_total = sum_total + numbers\n",
    "print(sum_total)\n",
    "\n",
    "    \n",
    "      \n"
   ]
  }
 ],
 "metadata": {
  "kernelspec": {
   "display_name": "Python 3",
   "language": "python",
   "name": "python3"
  },
  "language_info": {
   "codemirror_mode": {
    "name": "ipython",
    "version": 3
   },
   "file_extension": ".py",
   "mimetype": "text/x-python",
   "name": "python",
   "nbconvert_exporter": "python",
   "pygments_lexer": "ipython3",
   "version": "3.9.8"
  },
  "orig_nbformat": 4
 },
 "nbformat": 4,
 "nbformat_minor": 2
}
