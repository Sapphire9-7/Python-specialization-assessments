{
 "cells": [
  {
   "attachments": {},
   "cell_type": "markdown",
   "metadata": {},
   "source": [
    "Scraping Numbers from HTML using BeautifulSoup In this assignment you will write a Python program similar to http://www.py4e.com/code3/urllink2.py. The program will use urllib to read the HTML from the data files below, and parse the data, extracting numbers and compute the sum of the numbers in the file."
   ]
  },
  {
   "cell_type": "code",
   "execution_count": 10,
   "metadata": {},
   "outputs": [
    {
     "name": "stdout",
     "output_type": "stream",
     "text": [
      "['96']\n",
      "['91']\n",
      "['86']\n",
      "['83']\n",
      "['78']\n",
      "['76']\n",
      "['73']\n",
      "['72']\n",
      "['72']\n",
      "['69']\n",
      "['66']\n",
      "['66']\n",
      "['63']\n",
      "['63']\n",
      "['62']\n",
      "['60']\n",
      "['60']\n",
      "['57']\n",
      "['56']\n",
      "['55']\n",
      "['55']\n",
      "['53']\n",
      "['46']\n",
      "['46']\n",
      "['43']\n",
      "['43']\n",
      "['39']\n",
      "['32']\n",
      "['31']\n",
      "['30']\n",
      "['26']\n",
      "['25']\n",
      "['24']\n",
      "['24']\n",
      "['24']\n",
      "['22']\n",
      "['22']\n",
      "['20']\n",
      "['19']\n",
      "['17']\n",
      "['17']\n",
      "['10']\n",
      "['9']\n",
      "['9']\n",
      "['7']\n",
      "['7']\n",
      "['3']\n",
      "['3']\n",
      "['2']\n",
      "['1']\n",
      "Count =  50\n",
      "Sum =  2113\n"
     ]
    }
   ],
   "source": [
    "#actual data is in http://py4e-data.dr-chuck.net/comments_1830768.html\n",
    "from bs4 import BeautifulSoup\n",
    "import ssl\n",
    "import urllib.parse, urllib.request, urllib.error\n",
    "import re\n",
    "total = 0\n",
    "count = 0\n",
    "ctx = ssl.create_default_context()\n",
    "ctx.check_hostname = False\n",
    "ctx.verify_mode = ssl.CERT_NONE\n",
    "#get the file's ur\n",
    "url = input('Enter - ')\n",
    "html = urllib.request.urlopen(url, context = ctx).read()\n",
    "soup = BeautifulSoup(html, 'html.parser')\n",
    "#look for the span tags\n",
    "tags = soup('span')\n",
    "    #look for the numbers in the span tags\n",
    "for tag in tags:\n",
    "     count = count + 1\n",
    "     y = re.findall('[0-9]+', tag.decode())\n",
    "     if len(y) > 0:\n",
    "        print(y)\n",
    "        for i in y:\n",
    "            x = int(i)\n",
    "            total = total + x\n",
    "print(\"Count = \", count)\n",
    "print(\"Sum = \", total)\n",
    "\n"
   ]
  }
 ],
 "metadata": {
  "kernelspec": {
   "display_name": "Python 3",
   "language": "python",
   "name": "python3"
  },
  "language_info": {
   "codemirror_mode": {
    "name": "ipython",
    "version": 3
   },
   "file_extension": ".py",
   "mimetype": "text/x-python",
   "name": "python",
   "nbconvert_exporter": "python",
   "pygments_lexer": "ipython3",
   "version": "3.9.8"
  },
  "orig_nbformat": 4
 },
 "nbformat": 4,
 "nbformat_minor": 2
}
